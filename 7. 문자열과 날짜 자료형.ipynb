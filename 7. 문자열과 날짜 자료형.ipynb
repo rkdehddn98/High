{
 "cells": [
  {
   "cell_type": "markdown",
   "id": "72619724",
   "metadata": {},
   "source": [
    "### 문자열 자료형과 str 접근자"
   ]
  },
  {
   "cell_type": "code",
   "execution_count": null,
   "id": "16e8bafb",
   "metadata": {},
   "outputs": [],
   "source": [
    "import pandas as pd\n",
    "df = pd.read_csv(\"../../데이터/판다스/주가리포트_샘플.txt\", sep = \"\\t\", encoding = \"euc-kr\")\n",
    "display(df.head())"
   ]
  },
  {
   "cell_type": "markdown",
   "id": "12409fb6",
   "metadata": {},
   "source": [
    "#### contains 메서드"
   ]
  },
  {
   "cell_type": "code",
   "execution_count": null,
   "id": "6317384c",
   "metadata": {
    "scrolled": true
   },
   "outputs": [],
   "source": [
    "display(df[\"의견\"].str.contains(\"매수\"))"
   ]
  },
  {
   "cell_type": "code",
   "execution_count": null,
   "id": "8f1b9fc3",
   "metadata": {},
   "outputs": [],
   "source": [
    "display(df.loc[df[\"의견\"].str.contains(\"매수\")])"
   ]
  },
  {
   "cell_type": "markdown",
   "id": "cbf2e7ed",
   "metadata": {},
   "source": [
    "#### replace 메서드 "
   ]
  },
  {
   "cell_type": "code",
   "execution_count": null,
   "id": "d64a1b50",
   "metadata": {},
   "outputs": [],
   "source": [
    "df[\"의견\"] = df[\"의견\"].str.replace(\"Neutral\", \"중립\")\n",
    "display(df['의견'].value_counts())"
   ]
  },
  {
   "cell_type": "markdown",
   "id": "45c50a6c",
   "metadata": {},
   "source": [
    "#### slice 메서드"
   ]
  },
  {
   "cell_type": "code",
   "execution_count": null,
   "id": "4655c3cc",
   "metadata": {},
   "outputs": [],
   "source": [
    "display(df[\"날짜\"].str.slice(0, 4))"
   ]
  },
  {
   "cell_type": "code",
   "execution_count": null,
   "id": "c5f24181",
   "metadata": {},
   "outputs": [],
   "source": [
    "display(df[\"날짜\"].str.slice(4))"
   ]
  },
  {
   "cell_type": "markdown",
   "id": "3b57e389",
   "metadata": {},
   "source": [
    "#### split 메서드"
   ]
  },
  {
   "cell_type": "code",
   "execution_count": null,
   "id": "517f5941",
   "metadata": {},
   "outputs": [],
   "source": [
    "display(df[\"날짜\"].str.split(\"-\"))"
   ]
  },
  {
   "cell_type": "code",
   "execution_count": null,
   "id": "db95d308",
   "metadata": {},
   "outputs": [],
   "source": [
    "display(df[\"날짜\"].str.split(\"-\", expand = True))"
   ]
  },
  {
   "cell_type": "code",
   "execution_count": null,
   "id": "a9fdc214",
   "metadata": {},
   "outputs": [],
   "source": [
    "df[[\"연\", \"월\", \"일\"]] = df[\"날짜\"].str.split(\"-\", expand = True)\n",
    "display(df.head())"
   ]
  },
  {
   "cell_type": "markdown",
   "id": "7ace1862",
   "metadata": {},
   "source": [
    "### 날짜 자료형"
   ]
  },
  {
   "cell_type": "code",
   "execution_count": null,
   "id": "7f9d30f6",
   "metadata": {},
   "outputs": [],
   "source": [
    "a = pd.to_datetime(\"2020\")\n",
    "b = pd.to_datetime(\"2020-01\")\n",
    "c = pd.to_datetime(\"2020-01-03\")\n",
    "d = pd.to_datetime(\"2020-01-03 13\")\n",
    "e = pd.to_datetime(\"2020-01-03 13:30\")\n",
    "f = pd.to_datetime(\"2020-01-03 13:30:20\")\n",
    "print(a)\n",
    "print(b)\n",
    "print(c)\n",
    "print(d)\n",
    "print(e)\n",
    "print(f) "
   ]
  },
  {
   "cell_type": "code",
   "execution_count": null,
   "id": "ca322ebb",
   "metadata": {},
   "outputs": [],
   "source": [
    "print(c.year) # 연도\n",
    "print(c.month) # 월\n",
    "print(c.day) # 일\n",
    "print(c.hour) # 시\n",
    "print(c.minute) # 분\n",
    "print(c.second) # 초"
   ]
  },
  {
   "cell_type": "markdown",
   "id": "c13915a3",
   "metadata": {},
   "source": [
    "#### 날짜 연산"
   ]
  },
  {
   "cell_type": "code",
   "execution_count": null,
   "id": "1abc7bbd",
   "metadata": {},
   "outputs": [],
   "source": [
    "a = pd.to_datetime(\"2020-01-03\")\n",
    "b = pd.to_datetime(\"2020-01-05\")\n",
    "print(b - a)"
   ]
  },
  {
   "cell_type": "code",
   "execution_count": null,
   "id": "4542c695",
   "metadata": {},
   "outputs": [],
   "source": [
    "five_day = pd.to_timedelta(5, \"D\") # 5일\n",
    "five_hours = pd.to_timedelta(5, \"h\") # 5시간\n",
    "five_minutes = pd.to_timedelta(5, \"m\") # 5분\n",
    "five_seconds = pd.to_timedelta(5, \"s\") # 5초"
   ]
  },
  {
   "cell_type": "code",
   "execution_count": null,
   "id": "11a8fb57",
   "metadata": {},
   "outputs": [],
   "source": [
    "print(a - five_day) # a에서 5일전\n",
    "print(a + five_hours) # a에서 5시간 후\n",
    "print(a + five_minutes) # a에서 5분 후\n",
    "print(a - five_seconds) # a에서 5초 전"
   ]
  },
  {
   "cell_type": "markdown",
   "id": "ac1e450d",
   "metadata": {},
   "source": [
    "#### 시리즈에서 날짜 자료형"
   ]
  },
  {
   "cell_type": "code",
   "execution_count": null,
   "id": "93d5aaa8",
   "metadata": {},
   "outputs": [],
   "source": [
    "print(df[\"날짜\"].dtype)"
   ]
  },
  {
   "cell_type": "code",
   "execution_count": null,
   "id": "bf74a7ff",
   "metadata": {},
   "outputs": [],
   "source": [
    "df[\"날짜\"] = pd.to_datetime(df[\"날짜\"]) # 날짜 자료형으로 변경\n",
    "print(df[\"날짜\"].dtype)"
   ]
  },
  {
   "cell_type": "code",
   "execution_count": null,
   "id": "6529dbb4",
   "metadata": {},
   "outputs": [],
   "source": [
    "df[\"dt_년\"] = df[\"날짜\"].dt.year # dt 접근자로 year 가져오기\n",
    "df[\"dt_월\"] = df[\"날짜\"].dt.month # dt 접근자로 month 가져오기\n",
    "df[\"dt_일\"] = df[\"날짜\"].dt.day # dt 접근자로 day 가져오기\n",
    "display(df[[\"연\", \"월\", \"일\", \"dt_년\", \"dt_월\", \"dt_일\"]].head())"
   ]
  },
  {
   "cell_type": "code",
   "execution_count": null,
   "id": "a3320046",
   "metadata": {},
   "outputs": [],
   "source": [
    "display(df[[\"연\", \"월\", \"일\", \"dt_년\", \"dt_월\", \"dt_일\"]].dtypes)"
   ]
  },
  {
   "cell_type": "code",
   "execution_count": null,
   "id": "bf9a6a85",
   "metadata": {},
   "outputs": [],
   "source": [
    "display(df['날짜'].head())\n",
    "df[\"날짜\"] = df[\"날짜\"] + pd.to_timedelta(1, \"D\")\n",
    "display(df['날짜'].head())"
   ]
  }
 ],
 "metadata": {
  "kernelspec": {
   "display_name": "Python 3",
   "language": "python",
   "name": "python3"
  },
  "language_info": {
   "codemirror_mode": {
    "name": "ipython",
    "version": 3
   },
   "file_extension": ".py",
   "mimetype": "text/x-python",
   "name": "python",
   "nbconvert_exporter": "python",
   "pygments_lexer": "ipython3",
   "version": "3.8.8"
  }
 },
 "nbformat": 4,
 "nbformat_minor": 5
}
