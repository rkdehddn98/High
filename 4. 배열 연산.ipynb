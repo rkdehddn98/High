{
 "cells": [
  {
   "cell_type": "markdown",
   "id": "086cb615",
   "metadata": {},
   "source": [
    "### 인덱스 중심의 연산"
   ]
  },
  {
   "cell_type": "code",
   "execution_count": null,
   "id": "3f3bb272",
   "metadata": {},
   "outputs": [],
   "source": [
    "import pandas as pd\n",
    "s1 = pd.Series([1,2,3,4], index = [1,2,3,4])\n",
    "s2 = pd.Series([4,3,2,1], index = [4,3,2,1])"
   ]
  },
  {
   "cell_type": "code",
   "execution_count": null,
   "id": "be88f809",
   "metadata": {},
   "outputs": [],
   "source": [
    "display(s1 - s2)"
   ]
  },
  {
   "cell_type": "code",
   "execution_count": null,
   "id": "89a90ac8",
   "metadata": {},
   "outputs": [],
   "source": [
    "s1 = pd.Series([1,2,3,4], index = [1,2,3,4])\n",
    "s2 = pd.Series([4,3,2,1], index = [5,6,7,8])\n",
    "result = s1 - s2\n",
    "display(result)"
   ]
  },
  {
   "cell_type": "code",
   "execution_count": null,
   "id": "afd457e6",
   "metadata": {},
   "outputs": [],
   "source": [
    "display(s1.values - s2.values)"
   ]
  },
  {
   "cell_type": "code",
   "execution_count": null,
   "id": "6ab3eaff",
   "metadata": {},
   "outputs": [],
   "source": [
    "df = pd.DataFrame({\"A\": [1, 2, 3, 4], \"B\": [5, 6, 7, 8]})\n",
    "df[\"C\"] = df[\"A\"] + df[\"B\"]\n",
    "display(df)"
   ]
  },
  {
   "cell_type": "code",
   "execution_count": null,
   "id": "1bfac67e",
   "metadata": {},
   "outputs": [],
   "source": [
    "df[\"C\"] = df[\"C\"] / 2\n",
    "display(df[\"C\"])"
   ]
  },
  {
   "cell_type": "markdown",
   "id": "b7e8af5f",
   "metadata": {},
   "source": [
    "### apply 메서드"
   ]
  },
  {
   "cell_type": "code",
   "execution_count": null,
   "id": "0e5a5889",
   "metadata": {},
   "outputs": [],
   "source": [
    "def square(x):\n",
    "    return x**2\n",
    "\n",
    "display(df[\"A\"].apply(square))"
   ]
  }
 ],
 "metadata": {
  "kernelspec": {
   "display_name": "Python 3",
   "language": "python",
   "name": "python3"
  },
  "language_info": {
   "codemirror_mode": {
    "name": "ipython",
    "version": 3
   },
   "file_extension": ".py",
   "mimetype": "text/x-python",
   "name": "python",
   "nbconvert_exporter": "python",
   "pygments_lexer": "ipython3",
   "version": "3.8.8"
  }
 },
 "nbformat": 4,
 "nbformat_minor": 5
}
