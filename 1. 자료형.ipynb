{
 "cells": [
  {
   "cell_type": "code",
   "execution_count": null,
   "id": "d44b0264",
   "metadata": {},
   "outputs": [],
   "source": [
    "import pandas as pd"
   ]
  },
  {
   "cell_type": "markdown",
   "id": "f72a21b6",
   "metadata": {},
   "source": [
    "### 시리즈 생성"
   ]
  },
  {
   "cell_type": "markdown",
   "id": "1c8eb077",
   "metadata": {},
   "source": [
    "#### 배열을 이용한 시리즈 생성"
   ]
  },
  {
   "cell_type": "code",
   "execution_count": null,
   "id": "bc8dcdfe",
   "metadata": {
    "scrolled": true
   },
   "outputs": [],
   "source": [
    "s1 = pd.Series([1,2,3], index = [\"A\", \"B\", \"C\"])\n",
    "display(s1)"
   ]
  },
  {
   "cell_type": "code",
   "execution_count": null,
   "id": "a42e2671",
   "metadata": {},
   "outputs": [],
   "source": [
    "s1 = s1.astype(float)\n",
    "display(s1)"
   ]
  },
  {
   "cell_type": "code",
   "execution_count": null,
   "id": "341da5ac",
   "metadata": {},
   "outputs": [],
   "source": [
    "s2 = pd.Series([10, 20, 30])\n",
    "display(s2)"
   ]
  },
  {
   "cell_type": "markdown",
   "id": "8df3685d",
   "metadata": {},
   "source": [
    "#### 딕셔너리를 이용한 시리즈 생성"
   ]
  },
  {
   "cell_type": "code",
   "execution_count": null,
   "id": "6be5b282",
   "metadata": {},
   "outputs": [],
   "source": [
    "s3 = pd.Series({\"A\":1, \"B\":2, \"C\":3, \"D\":4})\n",
    "display(s3)"
   ]
  },
  {
   "cell_type": "markdown",
   "id": "a7eda010",
   "metadata": {},
   "source": [
    "### 시리즈 속성"
   ]
  },
  {
   "cell_type": "code",
   "execution_count": null,
   "id": "a6ba3dab",
   "metadata": {},
   "outputs": [],
   "source": [
    "display(s3.values)\n",
    "display(s3.index)"
   ]
  },
  {
   "cell_type": "code",
   "execution_count": null,
   "id": "efd06656",
   "metadata": {},
   "outputs": [],
   "source": [
    "print(type(s3.index))"
   ]
  },
  {
   "cell_type": "code",
   "execution_count": null,
   "id": "1926f7cc",
   "metadata": {},
   "outputs": [],
   "source": [
    "print(s1.index.intersection(s3.index)) # s1 | s3\n",
    "print(s1.index.union(s3.index)) # s1 & s3\n",
    "print(s3.index.difference(s1.index)) # s3 - s1"
   ]
  },
  {
   "cell_type": "markdown",
   "id": "83b1d893",
   "metadata": {},
   "source": [
    "### 데이터프레임 생성"
   ]
  },
  {
   "cell_type": "markdown",
   "id": "d3bfba22",
   "metadata": {},
   "source": [
    "#### 중첩 배열을 이용한 데이터프레임 생성"
   ]
  },
  {
   "cell_type": "code",
   "execution_count": null,
   "id": "eede8b66",
   "metadata": {},
   "outputs": [],
   "source": [
    "df1 = pd.DataFrame([[1, 2], [3, 4]], columns=[\"A\", \"B\"], index=[\"x\", \"y\"])\n",
    "display(df1)"
   ]
  },
  {
   "cell_type": "code",
   "execution_count": null,
   "id": "91094b27",
   "metadata": {},
   "outputs": [],
   "source": [
    "df2 = pd.DataFrame([[1, 2], [3, 4]])\n",
    "display(df2)"
   ]
  },
  {
   "cell_type": "markdown",
   "id": "28172275",
   "metadata": {},
   "source": [
    "#### 딕셔너리를 이용한 데이터프레임 생성"
   ]
  },
  {
   "cell_type": "code",
   "execution_count": null,
   "id": "ee57e5af",
   "metadata": {},
   "outputs": [],
   "source": [
    "df3 = pd.DataFrame({\"A\": [1, 2, 3], \"B\": [4, 5, 6]}, index=[\"x\", \"y\", \"z\"])\n",
    "display(df3)"
   ]
  },
  {
   "cell_type": "markdown",
   "id": "bc18612e",
   "metadata": {},
   "source": [
    "### 데이터프레임 속성"
   ]
  },
  {
   "cell_type": "code",
   "execution_count": null,
   "id": "d714f69d",
   "metadata": {},
   "outputs": [],
   "source": [
    "display(df1.values) # 데이터\n",
    "display(df1.index) # 인덱스\n",
    "display(df1.columns) # 컬럼"
   ]
  },
  {
   "cell_type": "code",
   "execution_count": null,
   "id": "6cafb8db",
   "metadata": {},
   "outputs": [],
   "source": [
    "print(type(df1.loc[\"x\"])) # 인덱스가 x인 행의 자료형 출력\n",
    "print(type(df1.loc[:, \"A\"])) # 컬럼명이 Y인 열의 자료형 출력"
   ]
  },
  {
   "cell_type": "code",
   "execution_count": null,
   "id": "4478f87f",
   "metadata": {},
   "outputs": [],
   "source": [
    "print(type(df1.loc[\"x\"])) # 인덱스가 x인 행의 자료형 출력\n",
    "print(type(df1.loc[:, \"A\"])) # 컬럼명이 Y인 열의 자료형 출력"
   ]
  },
  {
   "cell_type": "markdown",
   "id": "de42c561",
   "metadata": {},
   "source": [
    "### 현실적인 데이터프레임 생성 방법"
   ]
  },
  {
   "cell_type": "code",
   "execution_count": null,
   "id": "463e2e7e",
   "metadata": {},
   "outputs": [],
   "source": [
    "msg_list = [\"numpy\", \"pandas\", \"matplotlib\"]\n",
    "data = []\n",
    "for msg in msg_list:\n",
    "    record = [msg] # 행 정의\n",
    "    for x in [\"a\", \"p\", \"n\"]:\n",
    "        record.append(msg.count(x)) # 행에 요소 추가\n",
    "    data.append(record) # 행 추가\n",
    "data = pd.DataFrame(data, columns = [\"message\", \"a\", \"p\", \"n\"])\n",
    "display(data)"
   ]
  }
 ],
 "metadata": {
  "kernelspec": {
   "display_name": "Python 3",
   "language": "python",
   "name": "python3"
  },
  "language_info": {
   "codemirror_mode": {
    "name": "ipython",
    "version": 3
   },
   "file_extension": ".py",
   "mimetype": "text/x-python",
   "name": "python",
   "nbconvert_exporter": "python",
   "pygments_lexer": "ipython3",
   "version": "3.8.8"
  }
 },
 "nbformat": 4,
 "nbformat_minor": 5
}
