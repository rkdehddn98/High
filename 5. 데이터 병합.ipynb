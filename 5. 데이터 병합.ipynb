{
 "cells": [
  {
   "cell_type": "markdown",
   "id": "69f7ae30",
   "metadata": {},
   "source": [
    "### concat 함수 기초"
   ]
  },
  {
   "cell_type": "markdown",
   "id": "714a9e04",
   "metadata": {},
   "source": [
    "#### 행 방향 데이터 병합"
   ]
  },
  {
   "cell_type": "code",
   "execution_count": null,
   "id": "54b90272",
   "metadata": {},
   "outputs": [],
   "source": [
    "import pandas as pd\n",
    "df1 = pd.DataFrame({\"A\":[1,2,3], \"B\":[1,2,3]})\n",
    "df2 = pd.DataFrame({\"A\":[4,5], \"B\":[4,5]})\n",
    "display(df1)\n",
    "display(df2)"
   ]
  },
  {
   "cell_type": "code",
   "execution_count": null,
   "id": "7e1c81c0",
   "metadata": {},
   "outputs": [],
   "source": [
    "display(pd.concat([df1, df2], axis = 0, ignore_index = True))\n",
    "display(pd.concat([df1, df2], axis = 0, ignore_index = False))"
   ]
  },
  {
   "cell_type": "markdown",
   "id": "cc490ed8",
   "metadata": {},
   "source": [
    "#### 열 방향 데이터 병합"
   ]
  },
  {
   "cell_type": "code",
   "execution_count": null,
   "id": "194c04b0",
   "metadata": {},
   "outputs": [],
   "source": [
    "df1 = pd.DataFrame({\"A\":[1,2,3], \"B\":[4,5,6]})\n",
    "df2 = pd.DataFrame({\"C\":[7,8,9]})\n",
    "display(pd.concat([df1, df2], axis = 1, ignore_index = True))\n",
    "display(pd.concat([df1, df2], axis = 1, ignore_index = False))"
   ]
  },
  {
   "cell_type": "code",
   "execution_count": null,
   "id": "850c9acf",
   "metadata": {},
   "outputs": [],
   "source": [
    "df2.index = [\"a\", \"b\", \"c\"]\n",
    "display(pd.concat([df1, df2], axis = 1, ignore_index = False))"
   ]
  },
  {
   "cell_type": "markdown",
   "id": "d5c561d2",
   "metadata": {},
   "source": [
    "### concat 함수 응용: 여러 파일 불러와서 병합하기"
   ]
  },
  {
   "cell_type": "code",
   "execution_count": null,
   "id": "7e8f307c",
   "metadata": {},
   "outputs": [],
   "source": [
    "import os\n",
    "os.listdir(\"../../데이터/판다스\") "
   ]
  },
  {
   "cell_type": "code",
   "execution_count": null,
   "id": "095091bc",
   "metadata": {},
   "outputs": [],
   "source": [
    "my_path = \"../../데이터/판다스\"\n",
    "merged_df = pd.DataFrame()\n",
    "for file in os.listdir(my_path):\n",
    "    if \"병합예제\" in file:\n",
    "        df = pd.read_csv(my_path + \"/\" + file)\n",
    "        merged_df = pd.concat([merged_df, df], axis = 0, ignore_index = True)\n",
    "display(merged_df)"
   ]
  },
  {
   "cell_type": "markdown",
   "id": "bc8bf885",
   "metadata": {},
   "source": [
    "### merge 함수"
   ]
  },
  {
   "cell_type": "markdown",
   "id": "ccc79463",
   "metadata": {},
   "source": [
    "#### on 인자"
   ]
  },
  {
   "cell_type": "code",
   "execution_count": null,
   "id": "c3b61ece",
   "metadata": {},
   "outputs": [],
   "source": [
    "df1 = pd.DataFrame({\"직원\": [\"김철수\", \"박철수\", \"김민수\", \"이민수\"],\n",
    "                    \"부서\": [\"회계\", \"데이터분석\", \"데이터분석\", \"인사\"]})\n",
    "df2 = pd.DataFrame({\"직원\": [\"박철수\", \"이민수\", \"김민수\", \"김철수\"],\n",
    "                     \"입사년도\": [2004, 2008, 2012, 2014]})\n",
    "merged_df = pd.merge(df1, df2, on = \"직원\")\n",
    "display(merged_df) "
   ]
  },
  {
   "cell_type": "code",
   "execution_count": null,
   "id": "6187f894",
   "metadata": {},
   "outputs": [],
   "source": [
    "df3 = pd.DataFrame({\"직원\": [\"김철수\", \"김민수\", \"김철수\", \"김민수\"],\n",
    "                   \"부서\": [\"인사\", \"인사\", \"데이터분석\", \"데이터분석\"],\n",
    "                   \"입사년도\": [2004, 2008, 2010, 2006]})\n",
    "df4 = pd.DataFrame({\"직원\": [\"김철수\", \"김철수\", \"김민수\", \"김민수\"],\n",
    "                   \"부서\": [\"인사\", \"데이터분석\", \"인사\", \"데이터분석\"],\n",
    "                   \"월급\": [500, 400, 350, 300]})\n",
    "merged_df = pd.merge(df3, df4, on = [\"직원\", \"부서\"])\n",
    "display(merged_df)"
   ]
  },
  {
   "cell_type": "markdown",
   "id": "46aa9a81",
   "metadata": {},
   "source": [
    "#### left_on과 right_on 인자"
   ]
  },
  {
   "cell_type": "code",
   "execution_count": null,
   "id": "22499710",
   "metadata": {},
   "outputs": [],
   "source": [
    "df1.rename({\"직원\":\"성함\"}, axis = 1, inplace = True)\n",
    "merged_data = pd.merge(df1, df2, left_on = [\"성함\"], right_on = [\"직원\"])\n",
    "display(merged_data)"
   ]
  },
  {
   "cell_type": "code",
   "execution_count": null,
   "id": "5d096180",
   "metadata": {},
   "outputs": [],
   "source": [
    "merged_data.drop(\"직원\", axis = 1, inplace = True)"
   ]
  },
  {
   "cell_type": "code",
   "execution_count": null,
   "id": "a3bc9ee7",
   "metadata": {},
   "outputs": [],
   "source": [
    "df3.rename({\"직원\":\"성함\", \"부서\":\"부서/팀\"}, axis = 1, inplace = True)\n",
    "merged_data  = pd.merge(df3, df4, left_on = [\"성함\", \"부서/팀\"], right_on = [\"직원\", \"부서\"])\n",
    "display(merged_data)"
   ]
  },
  {
   "cell_type": "code",
   "execution_count": null,
   "id": "2ff2f4c9",
   "metadata": {},
   "outputs": [],
   "source": [
    "display(pd.merge(df3, df4, left_on = [\"성함\", \"부서/팀\"], right_on = [\"부서\", \"직원\"]))"
   ]
  },
  {
   "cell_type": "markdown",
   "id": "b59f01fd",
   "metadata": {},
   "source": [
    "#### left_index와 right_index 인자"
   ]
  },
  {
   "cell_type": "code",
   "execution_count": null,
   "id": "b8eda225",
   "metadata": {},
   "outputs": [],
   "source": [
    "df1 = pd.DataFrame({\"직원\": [\"김철수\", \"박철수\", \"김민수\", \"이민수\"],\n",
    "                   \"부서\": [\"회계\", \"데이터분석\", \"데이터분석\", \"인사\"]})\n",
    "df2 = pd.DataFrame({\"직원\": [\"박철수\", \"이민수\", \"김민수\", \"김철수\"],\n",
    "                    \"입사년도\": [2004, 2008, 2012, 2014]})\n",
    "df1.set_index(\"직원\", inplace = True)\n",
    "display(df1)"
   ]
  },
  {
   "cell_type": "code",
   "execution_count": null,
   "id": "706529a8",
   "metadata": {},
   "outputs": [],
   "source": [
    "merged_data = pd.merge(df1, df2, left_index = True, right_on = \"직원\")\n",
    "display(merged_data)"
   ]
  },
  {
   "cell_type": "code",
   "execution_count": null,
   "id": "c1b69387",
   "metadata": {},
   "outputs": [],
   "source": [
    "display(df1.reset_index())"
   ]
  },
  {
   "cell_type": "markdown",
   "id": "8d51bbb3",
   "metadata": {},
   "source": [
    "#### 조인 방법 결정: how"
   ]
  },
  {
   "cell_type": "code",
   "execution_count": null,
   "id": "85e4e310",
   "metadata": {},
   "outputs": [],
   "source": [
    "df1 = pd.DataFrame({\"key\":[1,2,3], \"x\":[1,2,3]})\n",
    "df2 = pd.DataFrame({\"key\":[2,3,4], \"y\":[2,3,4]})"
   ]
  },
  {
   "cell_type": "code",
   "execution_count": null,
   "id": "896e3d4b",
   "metadata": {},
   "outputs": [],
   "source": [
    "display(pd.merge(df1, df2, on = \"key\", how = \"inner\"))"
   ]
  },
  {
   "cell_type": "code",
   "execution_count": null,
   "id": "7b15ea72",
   "metadata": {},
   "outputs": [],
   "source": [
    "display(pd.merge(df1, df2, on = \"key\", how = \"left\"))"
   ]
  },
  {
   "cell_type": "code",
   "execution_count": null,
   "id": "f18997a1",
   "metadata": {},
   "outputs": [],
   "source": [
    "display(pd.merge(df1, df2, on = \"key\", how = \"right\"))"
   ]
  },
  {
   "cell_type": "code",
   "execution_count": null,
   "id": "eca71f16",
   "metadata": {},
   "outputs": [],
   "source": [
    "display(pd.merge(df1, df2, on = \"key\", how = \"outer\"))"
   ]
  }
 ],
 "metadata": {
  "kernelspec": {
   "display_name": "Python 3",
   "language": "python",
   "name": "python3"
  },
  "language_info": {
   "codemirror_mode": {
    "name": "ipython",
    "version": 3
   },
   "file_extension": ".py",
   "mimetype": "text/x-python",
   "name": "python",
   "nbconvert_exporter": "python",
   "pygments_lexer": "ipython3",
   "version": "3.8.8"
  }
 },
 "nbformat": 4,
 "nbformat_minor": 5
}
