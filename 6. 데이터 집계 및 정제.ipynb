{
 "cells": [
  {
   "cell_type": "code",
   "execution_count": 1,
   "id": "8776ef48",
   "metadata": {},
   "outputs": [],
   "source": [
    "import pandas as pd\n",
    "df = pd.read_csv(\"../../데이터/판다스/재무제표샘플데이터.csv\", encoding = \"euc-kr\")"
   ]
  },
  {
   "cell_type": "markdown",
   "id": "82108966",
   "metadata": {},
   "source": [
    "### 데이터 확인"
   ]
  },
  {
   "cell_type": "markdown",
   "id": "a5f1816a",
   "metadata": {},
   "source": [
    "#### head와 tail 메서드"
   ]
  },
  {
   "cell_type": "code",
   "execution_count": 2,
   "id": "72cb0c15",
   "metadata": {},
   "outputs": [
    {
     "data": {
      "text/html": [
       "<div>\n",
       "<style scoped>\n",
       "    .dataframe tbody tr th:only-of-type {\n",
       "        vertical-align: middle;\n",
       "    }\n",
       "\n",
       "    .dataframe tbody tr th {\n",
       "        vertical-align: top;\n",
       "    }\n",
       "\n",
       "    .dataframe thead th {\n",
       "        text-align: right;\n",
       "    }\n",
       "</style>\n",
       "<table border=\"1\" class=\"dataframe\">\n",
       "  <thead>\n",
       "    <tr style=\"text-align: right;\">\n",
       "      <th></th>\n",
       "      <th>기업</th>\n",
       "      <th>연도</th>\n",
       "      <th>자산총계</th>\n",
       "      <th>부채총계</th>\n",
       "      <th>자본총계</th>\n",
       "      <th>매출액</th>\n",
       "      <th>영업이익</th>\n",
       "      <th>당기순이익</th>\n",
       "      <th>부채비율</th>\n",
       "    </tr>\n",
       "  </thead>\n",
       "  <tbody>\n",
       "    <tr>\n",
       "      <th>0</th>\n",
       "      <td>대원미디어</td>\n",
       "      <td>2016</td>\n",
       "      <td>9.776068e+10</td>\n",
       "      <td>2.341949e+10</td>\n",
       "      <td>7.434119e+10</td>\n",
       "      <td>9.499312e+10</td>\n",
       "      <td>2.379823e+09</td>\n",
       "      <td>4.804263e+08</td>\n",
       "      <td>76.044057</td>\n",
       "    </tr>\n",
       "    <tr>\n",
       "      <th>1</th>\n",
       "      <td>대원미디어</td>\n",
       "      <td>2017</td>\n",
       "      <td>1.043490e+11</td>\n",
       "      <td>2.339887e+10</td>\n",
       "      <td>8.095035e+10</td>\n",
       "      <td>1.207350e+11</td>\n",
       "      <td>6.987071e+09</td>\n",
       "      <td>7.797097e+09</td>\n",
       "      <td>77.576381</td>\n",
       "    </tr>\n",
       "    <tr>\n",
       "      <th>2</th>\n",
       "      <td>대원미디어</td>\n",
       "      <td>2018</td>\n",
       "      <td>1.255730e+11</td>\n",
       "      <td>2.402737e+10</td>\n",
       "      <td>1.015450e+11</td>\n",
       "      <td>1.633750e+11</td>\n",
       "      <td>6.412992e+09</td>\n",
       "      <td>4.153603e+09</td>\n",
       "      <td>80.865781</td>\n",
       "    </tr>\n",
       "    <tr>\n",
       "      <th>3</th>\n",
       "      <td>대원미디어</td>\n",
       "      <td>2019</td>\n",
       "      <td>1.361390e+11</td>\n",
       "      <td>3.494140e+10</td>\n",
       "      <td>1.011980e+11</td>\n",
       "      <td>1.915460e+11</td>\n",
       "      <td>3.664066e+09</td>\n",
       "      <td>3.181392e+09</td>\n",
       "      <td>74.334031</td>\n",
       "    </tr>\n",
       "    <tr>\n",
       "      <th>4</th>\n",
       "      <td>대원미디어</td>\n",
       "      <td>2020</td>\n",
       "      <td>1.446900e+11</td>\n",
       "      <td>3.545975e+10</td>\n",
       "      <td>1.092300e+11</td>\n",
       "      <td>2.662270e+11</td>\n",
       "      <td>7.227984e+09</td>\n",
       "      <td>6.501209e+09</td>\n",
       "      <td>75.492644</td>\n",
       "    </tr>\n",
       "  </tbody>\n",
       "</table>\n",
       "</div>"
      ],
      "text/plain": [
       "      기업    연도          자산총계          부채총계          자본총계           매출액  \\\n",
       "0  대원미디어  2016  9.776068e+10  2.341949e+10  7.434119e+10  9.499312e+10   \n",
       "1  대원미디어  2017  1.043490e+11  2.339887e+10  8.095035e+10  1.207350e+11   \n",
       "2  대원미디어  2018  1.255730e+11  2.402737e+10  1.015450e+11  1.633750e+11   \n",
       "3  대원미디어  2019  1.361390e+11  3.494140e+10  1.011980e+11  1.915460e+11   \n",
       "4  대원미디어  2020  1.446900e+11  3.545975e+10  1.092300e+11  2.662270e+11   \n",
       "\n",
       "           영업이익         당기순이익       부채비율  \n",
       "0  2.379823e+09  4.804263e+08  76.044057  \n",
       "1  6.987071e+09  7.797097e+09  77.576381  \n",
       "2  6.412992e+09  4.153603e+09  80.865781  \n",
       "3  3.664066e+09  3.181392e+09  74.334031  \n",
       "4  7.227984e+09  6.501209e+09  75.492644  "
      ]
     },
     "metadata": {},
     "output_type": "display_data"
    },
    {
     "data": {
      "text/html": [
       "<div>\n",
       "<style scoped>\n",
       "    .dataframe tbody tr th:only-of-type {\n",
       "        vertical-align: middle;\n",
       "    }\n",
       "\n",
       "    .dataframe tbody tr th {\n",
       "        vertical-align: top;\n",
       "    }\n",
       "\n",
       "    .dataframe thead th {\n",
       "        text-align: right;\n",
       "    }\n",
       "</style>\n",
       "<table border=\"1\" class=\"dataframe\">\n",
       "  <thead>\n",
       "    <tr style=\"text-align: right;\">\n",
       "      <th></th>\n",
       "      <th>기업</th>\n",
       "      <th>연도</th>\n",
       "      <th>자산총계</th>\n",
       "      <th>부채총계</th>\n",
       "      <th>자본총계</th>\n",
       "      <th>매출액</th>\n",
       "      <th>영업이익</th>\n",
       "      <th>당기순이익</th>\n",
       "      <th>부채비율</th>\n",
       "    </tr>\n",
       "  </thead>\n",
       "  <tbody>\n",
       "    <tr>\n",
       "      <th>35</th>\n",
       "      <td>코오롱</td>\n",
       "      <td>2016</td>\n",
       "      <td>3.332550e+12</td>\n",
       "      <td>2.502330e+12</td>\n",
       "      <td>8.302250e+11</td>\n",
       "      <td>3.936860e+12</td>\n",
       "      <td>1.332050e+11</td>\n",
       "      <td>2.745606e+10</td>\n",
       "      <td>24.912568</td>\n",
       "    </tr>\n",
       "    <tr>\n",
       "      <th>36</th>\n",
       "      <td>코오롱</td>\n",
       "      <td>2017</td>\n",
       "      <td>3.688370e+12</td>\n",
       "      <td>2.785430e+12</td>\n",
       "      <td>9.029420e+11</td>\n",
       "      <td>4.405820e+12</td>\n",
       "      <td>1.089940e+11</td>\n",
       "      <td>9.852028e+10</td>\n",
       "      <td>24.480781</td>\n",
       "    </tr>\n",
       "    <tr>\n",
       "      <th>37</th>\n",
       "      <td>코오롱</td>\n",
       "      <td>2018</td>\n",
       "      <td>3.473910e+12</td>\n",
       "      <td>2.644700e+12</td>\n",
       "      <td>8.292060e+11</td>\n",
       "      <td>4.324490e+12</td>\n",
       "      <td>1.050160e+11</td>\n",
       "      <td>-4.522544e+09</td>\n",
       "      <td>23.869540</td>\n",
       "    </tr>\n",
       "    <tr>\n",
       "      <th>38</th>\n",
       "      <td>코오롱</td>\n",
       "      <td>2019</td>\n",
       "      <td>3.618570e+12</td>\n",
       "      <td>2.896670e+12</td>\n",
       "      <td>7.219040e+11</td>\n",
       "      <td>4.284390e+12</td>\n",
       "      <td>1.343990e+11</td>\n",
       "      <td>-2.222093e+10</td>\n",
       "      <td>19.949944</td>\n",
       "    </tr>\n",
       "    <tr>\n",
       "      <th>39</th>\n",
       "      <td>코오롱</td>\n",
       "      <td>2020</td>\n",
       "      <td>3.708130e+12</td>\n",
       "      <td>2.849100e+12</td>\n",
       "      <td>8.590350e+11</td>\n",
       "      <td>4.890150e+12</td>\n",
       "      <td>2.714480e+11</td>\n",
       "      <td>1.666080e+11</td>\n",
       "      <td>23.166223</td>\n",
       "    </tr>\n",
       "  </tbody>\n",
       "</table>\n",
       "</div>"
      ],
      "text/plain": [
       "     기업    연도          자산총계          부채총계          자본총계           매출액  \\\n",
       "35  코오롱  2016  3.332550e+12  2.502330e+12  8.302250e+11  3.936860e+12   \n",
       "36  코오롱  2017  3.688370e+12  2.785430e+12  9.029420e+11  4.405820e+12   \n",
       "37  코오롱  2018  3.473910e+12  2.644700e+12  8.292060e+11  4.324490e+12   \n",
       "38  코오롱  2019  3.618570e+12  2.896670e+12  7.219040e+11  4.284390e+12   \n",
       "39  코오롱  2020  3.708130e+12  2.849100e+12  8.590350e+11  4.890150e+12   \n",
       "\n",
       "            영업이익         당기순이익       부채비율  \n",
       "35  1.332050e+11  2.745606e+10  24.912568  \n",
       "36  1.089940e+11  9.852028e+10  24.480781  \n",
       "37  1.050160e+11 -4.522544e+09  23.869540  \n",
       "38  1.343990e+11 -2.222093e+10  19.949944  \n",
       "39  2.714480e+11  1.666080e+11  23.166223  "
      ]
     },
     "metadata": {},
     "output_type": "display_data"
    }
   ],
   "source": [
    "display(df.head(5))\n",
    "display(df.tail(5))"
   ]
  },
  {
   "cell_type": "markdown",
   "id": "fd7e7e8e",
   "metadata": {},
   "source": [
    "#### shape 속성"
   ]
  },
  {
   "cell_type": "code",
   "execution_count": 3,
   "id": "7c5b2e0a",
   "metadata": {},
   "outputs": [
    {
     "name": "stdout",
     "output_type": "stream",
     "text": [
      "(40, 9)\n"
     ]
    }
   ],
   "source": [
    "print(df.shape)"
   ]
  },
  {
   "cell_type": "markdown",
   "id": "e84f1ed2",
   "metadata": {},
   "source": [
    "#### index와 columns 속성"
   ]
  },
  {
   "cell_type": "code",
   "execution_count": 4,
   "id": "fded7837",
   "metadata": {
    "scrolled": true
   },
   "outputs": [
    {
     "name": "stdout",
     "output_type": "stream",
     "text": [
      "RangeIndex(start=0, stop=40, step=1)\n",
      "Index(['기업', '연도', '자산총계', '부채총계', '자본총계', '매출액', '영업이익', '당기순이익', '부채비율'], dtype='object')\n"
     ]
    }
   ],
   "source": [
    "print(df.index)\n",
    "print(df.columns)"
   ]
  },
  {
   "cell_type": "markdown",
   "id": "46dd24cf",
   "metadata": {},
   "source": [
    "### 변수 분포 확인"
   ]
  },
  {
   "cell_type": "markdown",
   "id": "0f5b8493",
   "metadata": {},
   "source": [
    "#### value_counts 메서드"
   ]
  },
  {
   "cell_type": "code",
   "execution_count": 5,
   "id": "337b6218",
   "metadata": {},
   "outputs": [
    {
     "data": {
      "text/plain": [
       "False    22\n",
       "True     18\n",
       "Name: 부채비율>50, dtype: int64"
      ]
     },
     "metadata": {},
     "output_type": "display_data"
    }
   ],
   "source": [
    "df[\"부채비율>50\"] = df[\"부채비율\"] > 50\n",
    "display(df[\"부채비율>50\"].value_counts())"
   ]
  },
  {
   "cell_type": "code",
   "execution_count": 6,
   "id": "c7bfb614",
   "metadata": {},
   "outputs": [
    {
     "data": {
      "text/plain": [
       "False    0.55\n",
       "True     0.45\n",
       "Name: 부채비율>50, dtype: float64"
      ]
     },
     "metadata": {},
     "output_type": "display_data"
    }
   ],
   "source": [
    "display(df[\"부채비율>50\"].value_counts(normalize = True))"
   ]
  },
  {
   "cell_type": "code",
   "execution_count": 7,
   "id": "08ee0877",
   "metadata": {},
   "outputs": [
    {
     "name": "stdout",
     "output_type": "stream",
     "text": [
      "False 22\n"
     ]
    }
   ],
   "source": [
    "result = df[\"부채비율>50\"].value_counts()\n",
    "print(result.index[0], result.iloc[0])"
   ]
  },
  {
   "cell_type": "code",
   "execution_count": 8,
   "id": "b2c4c2bc",
   "metadata": {},
   "outputs": [
    {
     "data": {
      "text/plain": [
       "<AxesSubplot:>"
      ]
     },
     "metadata": {},
     "output_type": "display_data"
    },
    {
     "data": {
      "image/png": "[encoded data removed]",
      "text/plain": [
       "<Figure size 432x288 with 1 Axes>"
      ]
     },
     "metadata": {
      "needs_background": "light"
     },
     "output_type": "display_data"
    }
   ],
   "source": [
    "display(df[\"부채비율>50\"].value_counts(normalize = True).plot(kind = \"bar\"))"
   ]
  },
  {
   "cell_type": "code",
   "execution_count": 9,
   "id": "fc6f7b39",
   "metadata": {},
   "outputs": [
    {
     "data": {
      "text/plain": [
       "<AxesSubplot:ylabel='부채비율>50'>"
      ]
     },
     "metadata": {},
     "output_type": "display_data"
    },
    {
     "name": "stderr",
     "output_type": "stream",
     "text": [
      "C:\\ProgramData\\Anaconda3\\lib\\site-packages\\IPython\\core\\pylabtools.py:151: UserWarning: Glyph 48512 (\\N{HANGUL SYLLABLE BU}) missing from current font.\n",
      "  fig.canvas.print_figure(bytes_io, **kw)\n",
      "C:\\ProgramData\\Anaconda3\\lib\\site-packages\\IPython\\core\\pylabtools.py:151: UserWarning: Glyph 52292 (\\N{HANGUL SYLLABLE CAE}) missing from current font.\n",
      "  fig.canvas.print_figure(bytes_io, **kw)\n",
      "C:\\ProgramData\\Anaconda3\\lib\\site-packages\\IPython\\core\\pylabtools.py:151: UserWarning: Glyph 48708 (\\N{HANGUL SYLLABLE BI}) missing from current font.\n",
      "  fig.canvas.print_figure(bytes_io, **kw)\n",
      "C:\\ProgramData\\Anaconda3\\lib\\site-packages\\IPython\\core\\pylabtools.py:151: UserWarning: Glyph 50984 (\\N{HANGUL SYLLABLE YUL}) missing from current font.\n",
      "  fig.canvas.print_figure(bytes_io, **kw)\n"
     ]
    },
    {
     "data": {
      "image/png": "[encoded data removed]",
      "text/plain": [
       "<Figure size 432x288 with 1 Axes>"
      ]
     },
     "metadata": {},
     "output_type": "display_data"
    }
   ],
   "source": [
    "display(df[\"부채비율>50\"].value_counts(normalize = True).plot(kind = \"pie\"))"
   ]
  },
  {
   "cell_type": "markdown",
   "id": "4d4dc265",
   "metadata": {},
   "source": [
    "### 데이터 통계량 확인"
   ]
  },
  {
   "cell_type": "markdown",
   "id": "86a34e2e",
   "metadata": {},
   "source": [
    "#### describe 메서드"
   ]
  },
  {
   "cell_type": "code",
   "execution_count": 10,
   "id": "a2839ab9",
   "metadata": {},
   "outputs": [
    {
     "data": {
      "text/html": [
       "<div>\n",
       "<style scoped>\n",
       "    .dataframe tbody tr th:only-of-type {\n",
       "        vertical-align: middle;\n",
       "    }\n",
       "\n",
       "    .dataframe tbody tr th {\n",
       "        vertical-align: top;\n",
       "    }\n",
       "\n",
       "    .dataframe thead th {\n",
       "        text-align: right;\n",
       "    }\n",
       "</style>\n",
       "<table border=\"1\" class=\"dataframe\">\n",
       "  <thead>\n",
       "    <tr style=\"text-align: right;\">\n",
       "      <th></th>\n",
       "      <th>연도</th>\n",
       "      <th>자산총계</th>\n",
       "      <th>부채총계</th>\n",
       "      <th>자본총계</th>\n",
       "      <th>매출액</th>\n",
       "      <th>영업이익</th>\n",
       "      <th>당기순이익</th>\n",
       "      <th>부채비율</th>\n",
       "    </tr>\n",
       "  </thead>\n",
       "  <tbody>\n",
       "    <tr>\n",
       "      <th>count</th>\n",
       "      <td>40.00000</td>\n",
       "      <td>3.600000e+01</td>\n",
       "      <td>3.600000e+01</td>\n",
       "      <td>3.600000e+01</td>\n",
       "      <td>3.300000e+01</td>\n",
       "      <td>3.600000e+01</td>\n",
       "      <td>3.600000e+01</td>\n",
       "      <td>36.000000</td>\n",
       "    </tr>\n",
       "    <tr>\n",
       "      <th>mean</th>\n",
       "      <td>2018.00000</td>\n",
       "      <td>7.826858e+11</td>\n",
       "      <td>4.942808e+11</td>\n",
       "      <td>2.884053e+11</td>\n",
       "      <td>8.516524e+11</td>\n",
       "      <td>3.046763e+10</td>\n",
       "      <td>5.503761e+10</td>\n",
       "      <td>53.050860</td>\n",
       "    </tr>\n",
       "    <tr>\n",
       "      <th>std</th>\n",
       "      <td>1.43223</td>\n",
       "      <td>1.186074e+12</td>\n",
       "      <td>9.228289e+11</td>\n",
       "      <td>3.339497e+11</td>\n",
       "      <td>1.529365e+12</td>\n",
       "      <td>5.955260e+10</td>\n",
       "      <td>2.421778e+11</td>\n",
       "      <td>21.717672</td>\n",
       "    </tr>\n",
       "    <tr>\n",
       "      <th>min</th>\n",
       "      <td>2016.00000</td>\n",
       "      <td>2.949228e+10</td>\n",
       "      <td>6.320311e+09</td>\n",
       "      <td>1.054736e+10</td>\n",
       "      <td>1.249716e+10</td>\n",
       "      <td>-1.162015e+10</td>\n",
       "      <td>-4.402732e+10</td>\n",
       "      <td>18.883905</td>\n",
       "    </tr>\n",
       "    <tr>\n",
       "      <th>25%</th>\n",
       "      <td>2017.00000</td>\n",
       "      <td>5.521337e+10</td>\n",
       "      <td>2.387540e+10</td>\n",
       "      <td>2.931327e+10</td>\n",
       "      <td>3.285967e+10</td>\n",
       "      <td>2.295892e+09</td>\n",
       "      <td>-5.813147e+09</td>\n",
       "      <td>36.316790</td>\n",
       "    </tr>\n",
       "    <tr>\n",
       "      <th>50%</th>\n",
       "      <td>2018.00000</td>\n",
       "      <td>2.653375e+11</td>\n",
       "      <td>1.312652e+11</td>\n",
       "      <td>1.350985e+11</td>\n",
       "      <td>1.915460e+11</td>\n",
       "      <td>6.904084e+09</td>\n",
       "      <td>3.101122e+09</td>\n",
       "      <td>50.872896</td>\n",
       "    </tr>\n",
       "    <tr>\n",
       "      <th>75%</th>\n",
       "      <td>2019.00000</td>\n",
       "      <td>8.460308e+11</td>\n",
       "      <td>2.958292e+11</td>\n",
       "      <td>5.831945e+11</td>\n",
       "      <td>4.924430e+11</td>\n",
       "      <td>1.660627e+10</td>\n",
       "      <td>1.075971e+10</td>\n",
       "      <td>74.623685</td>\n",
       "    </tr>\n",
       "    <tr>\n",
       "      <th>max</th>\n",
       "      <td>2020.00000</td>\n",
       "      <td>3.708130e+12</td>\n",
       "      <td>2.896670e+12</td>\n",
       "      <td>1.036090e+12</td>\n",
       "      <td>4.890150e+12</td>\n",
       "      <td>2.714480e+11</td>\n",
       "      <td>1.444440e+12</td>\n",
       "      <td>82.214615</td>\n",
       "    </tr>\n",
       "  </tbody>\n",
       "</table>\n",
       "</div>"
      ],
      "text/plain": [
       "               연도          자산총계          부채총계          자본총계           매출액  \\\n",
       "count    40.00000  3.600000e+01  3.600000e+01  3.600000e+01  3.300000e+01   \n",
       "mean   2018.00000  7.826858e+11  4.942808e+11  2.884053e+11  8.516524e+11   \n",
       "std       1.43223  1.186074e+12  9.228289e+11  3.339497e+11  1.529365e+12   \n",
       "min    2016.00000  2.949228e+10  6.320311e+09  1.054736e+10  1.249716e+10   \n",
       "25%    2017.00000  5.521337e+10  2.387540e+10  2.931327e+10  3.285967e+10   \n",
       "50%    2018.00000  2.653375e+11  1.312652e+11  1.350985e+11  1.915460e+11   \n",
       "75%    2019.00000  8.460308e+11  2.958292e+11  5.831945e+11  4.924430e+11   \n",
       "max    2020.00000  3.708130e+12  2.896670e+12  1.036090e+12  4.890150e+12   \n",
       "\n",
       "               영업이익         당기순이익       부채비율  \n",
       "count  3.600000e+01  3.600000e+01  36.000000  \n",
       "mean   3.046763e+10  5.503761e+10  53.050860  \n",
       "std    5.955260e+10  2.421778e+11  21.717672  \n",
       "min   -1.162015e+10 -4.402732e+10  18.883905  \n",
       "25%    2.295892e+09 -5.813147e+09  36.316790  \n",
       "50%    6.904084e+09  3.101122e+09  50.872896  \n",
       "75%    1.660627e+10  1.075971e+10  74.623685  \n",
       "max    2.714480e+11  1.444440e+12  82.214615  "
      ]
     },
     "metadata": {},
     "output_type": "display_data"
    }
   ],
   "source": [
    "display(df.describe())"
   ]
  },
  {
   "cell_type": "code",
   "execution_count": null,
   "id": "cb895ab3",
   "metadata": {},
   "outputs": [],
   "source": [
    "display(df.mean())"
   ]
  },
  {
   "cell_type": "code",
   "execution_count": null,
   "id": "2492cf71",
   "metadata": {},
   "outputs": [],
   "source": [
    "display(df.max())"
   ]
  },
  {
   "cell_type": "markdown",
   "id": "4e3e876b",
   "metadata": {},
   "source": [
    "#### quantile 메서드"
   ]
  },
  {
   "cell_type": "code",
   "execution_count": null,
   "id": "ab436bcf",
   "metadata": {},
   "outputs": [],
   "source": [
    "df[['매출액', '영업이익', '당기순이익']].quantile(0.7)"
   ]
  },
  {
   "cell_type": "code",
   "execution_count": null,
   "id": "d3650c85",
   "metadata": {},
   "outputs": [],
   "source": [
    "display(df.quantile(0.7))"
   ]
  },
  {
   "cell_type": "markdown",
   "id": "d098fbf0",
   "metadata": {},
   "source": [
    "### 조건부 연산: groupby 메서드"
   ]
  },
  {
   "cell_type": "code",
   "execution_count": null,
   "id": "a20934bf",
   "metadata": {},
   "outputs": [],
   "source": [
    "display(df.groupby(\"기업\")[\"영업이익\"].max())"
   ]
  },
  {
   "cell_type": "code",
   "execution_count": null,
   "id": "35a41800",
   "metadata": {},
   "outputs": [],
   "source": [
    "result = df.groupby([\"연도\", \"부채비율>50\"])[\"영업이익\"].max()\n",
    "display(result) "
   ]
  },
  {
   "cell_type": "code",
   "execution_count": null,
   "id": "7f7ddb6d",
   "metadata": {},
   "outputs": [],
   "source": [
    "display(result.index)"
   ]
  },
  {
   "cell_type": "markdown",
   "id": "c7ce0fb4",
   "metadata": {},
   "source": [
    "#### as_index 인자"
   ]
  },
  {
   "cell_type": "code",
   "execution_count": null,
   "id": "baeebf92",
   "metadata": {},
   "outputs": [],
   "source": [
    "display(df.groupby([\"연도\", \"부채비율>50\"], as_index = False)[\"영업이익\"].max())"
   ]
  },
  {
   "cell_type": "markdown",
   "id": "ba472ed2",
   "metadata": {},
   "source": [
    "#### agg 메서드"
   ]
  },
  {
   "cell_type": "code",
   "execution_count": null,
   "id": "9f6c7a39",
   "metadata": {},
   "outputs": [],
   "source": [
    "import numpy as np\n",
    "result = df.groupby(\"기업\", as_index = False)[[\"영업이익\", \"매출액\"]].agg([max, min, np.mean])\n",
    "display(result)"
   ]
  },
  {
   "cell_type": "code",
   "execution_count": null,
   "id": "086e001e",
   "metadata": {},
   "outputs": [],
   "source": [
    "result = df.groupby(\"기업\", as_index = False)[[\"영업이익\", \"매출액\"]].agg({\"영업이익\":[max, min], \"매출액\":[np.mean]})\n",
    "display(result)"
   ]
  },
  {
   "cell_type": "markdown",
   "id": "8bd1b032",
   "metadata": {},
   "source": [
    "### 결측 처리"
   ]
  },
  {
   "cell_type": "markdown",
   "id": "9c781b28",
   "metadata": {},
   "source": [
    "#### 결측 생성"
   ]
  },
  {
   "cell_type": "code",
   "execution_count": null,
   "id": "61b2441a",
   "metadata": {
    "scrolled": true
   },
   "outputs": [],
   "source": [
    "import numpy as np\n",
    "np_nan_value = np.nan\n",
    "float_nan_value = float('nan')\n",
    "print(type(np_nan_value), np_nan_value)\n",
    "print(type(float_nan_value), float_nan_value)"
   ]
  },
  {
   "cell_type": "markdown",
   "id": "07ca9728",
   "metadata": {},
   "source": [
    "#### 결측 판단: isnull과 notnull 메서드"
   ]
  },
  {
   "cell_type": "code",
   "execution_count": null,
   "id": "b67f445b",
   "metadata": {},
   "outputs": [],
   "source": [
    "s_df = df.iloc[4:8, 2:6]\n",
    "display(s_df)\n",
    "display(s_df.isnull())\n",
    "display(s_df.notnull())"
   ]
  },
  {
   "cell_type": "code",
   "execution_count": null,
   "id": "7b4516ad",
   "metadata": {},
   "outputs": [],
   "source": [
    "display(df.isnull().sum(axis = 0))"
   ]
  },
  {
   "cell_type": "markdown",
   "id": "b12a55e4",
   "metadata": {},
   "source": [
    "#### 결측 제거: dropna 메서드"
   ]
  },
  {
   "cell_type": "code",
   "execution_count": null,
   "id": "20b2a685",
   "metadata": {
    "scrolled": true
   },
   "outputs": [],
   "source": [
    "display(df.dropna().shape)"
   ]
  },
  {
   "cell_type": "code",
   "execution_count": null,
   "id": "760417ee",
   "metadata": {},
   "outputs": [],
   "source": [
    "display(s_df.fillna(0))"
   ]
  },
  {
   "cell_type": "code",
   "execution_count": null,
   "id": "3ad4d600",
   "metadata": {},
   "outputs": [],
   "source": [
    "display(s_df.fillna(method = \"ffill\"))"
   ]
  },
  {
   "cell_type": "markdown",
   "id": "89312e3d",
   "metadata": {},
   "source": [
    "### 중복 처리"
   ]
  },
  {
   "cell_type": "markdown",
   "id": "ce4d8031",
   "metadata": {},
   "source": [
    "#### drop_duplicates 메서드"
   ]
  },
  {
   "cell_type": "code",
   "execution_count": null,
   "id": "3ff176c7",
   "metadata": {
    "scrolled": true
   },
   "outputs": [],
   "source": [
    "display(df.drop_duplicates([\"기업\"], keep = \"first\"))"
   ]
  },
  {
   "cell_type": "markdown",
   "id": "8a757146",
   "metadata": {},
   "source": [
    "#### unique 메서드"
   ]
  },
  {
   "cell_type": "code",
   "execution_count": null,
   "id": "83dda951",
   "metadata": {},
   "outputs": [],
   "source": [
    "display(df[\"기업\"].unique())"
   ]
  },
  {
   "cell_type": "markdown",
   "id": "fd28755c",
   "metadata": {},
   "source": [
    "### 데이터 정렬"
   ]
  },
  {
   "cell_type": "code",
   "execution_count": null,
   "id": "acd08737",
   "metadata": {},
   "outputs": [],
   "source": [
    "display(df.sort_values([\"영업이익\", \"당기순이익\"], ascending = False).head(10))"
   ]
  }
 ],
 "metadata": {
  "kernelspec": {
   "display_name": "Python 3 (ipykernel)",
   "language": "python",
   "name": "python3"
  },
  "language_info": {
   "codemirror_mode": {
    "name": "ipython",
    "version": 3
   },
   "file_extension": ".py",
   "mimetype": "text/x-python",
   "name": "python",
   "nbconvert_exporter": "python",
   "pygments_lexer": "ipython3",
   "version": "3.9.12"
  }
 },
 "nbformat": 4,
 "nbformat_minor": 5
}
