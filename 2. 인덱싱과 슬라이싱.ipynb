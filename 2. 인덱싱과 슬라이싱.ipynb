{
 "cells": [
  {
   "cell_type": "markdown",
   "id": "3d50a629",
   "metadata": {},
   "source": [
    "### 인덱서: loc와 iloc"
   ]
  },
  {
   "cell_type": "markdown",
   "id": "ebf157f7",
   "metadata": {},
   "source": [
    "#### 시리즈의 인덱싱과 슬라이싱"
   ]
  },
  {
   "cell_type": "code",
   "execution_count": null,
   "id": "42fd922e",
   "metadata": {},
   "outputs": [],
   "source": [
    "import pandas as pd\n",
    "S = pd.Series([\"A\", \"B\", \"C\", \"D\"], index = [1, 3, 5, 7])\n",
    "display(S)"
   ]
  },
  {
   "cell_type": "code",
   "execution_count": null,
   "id": "056e1db3",
   "metadata": {},
   "outputs": [],
   "source": [
    "display(S.loc[1]) # 인덱스가 1인 요소 출력\n",
    "display(S.loc[5:7]) # 인덱스가 5부터 7인 요소 출력\n",
    "display(S.loc[5]) # 인덱스가 5인 요소 출력"
   ]
  },
  {
   "cell_type": "code",
   "execution_count": null,
   "id": "28d69377",
   "metadata": {},
   "outputs": [],
   "source": [
    "display(S.iloc[0]) # 0번째 위치의 요소를 출력\n",
    "display(S.iloc[1:3]) # 1번째 위치부터 3번째 위치까지의 요소를 출력"
   ]
  },
  {
   "cell_type": "markdown",
   "id": "610d291d",
   "metadata": {},
   "source": [
    "#### 데이터프레임의 인덱싱과 슬라이싱"
   ]
  },
  {
   "cell_type": "code",
   "execution_count": null,
   "id": "34fcf566",
   "metadata": {},
   "outputs": [],
   "source": [
    "df = pd.DataFrame(\n",
    "    {\"A\": [1, 2, 3, 4], \"B\": [10, 20, 30, 40], \"C\": [5, 6, 7, 8]}, index=[1, 3, 5, 7]\n",
    ")\n",
    "display(df)"
   ]
  },
  {
   "cell_type": "code",
   "execution_count": null,
   "id": "bf597241",
   "metadata": {},
   "outputs": [],
   "source": [
    "display(df.loc[1]) # 인덱스가 1인 행 출력\n",
    "display(df.loc[5]) # 인덱스가 5인 행 출력\n",
    "display(df.iloc[0]) # 0번째 위치에 있는 행 출력\n",
    "display(df.iloc[1]) # 1번째 위치에 있는 행 출력"
   ]
  },
  {
   "cell_type": "code",
   "execution_count": null,
   "id": "d698ca23",
   "metadata": {},
   "outputs": [],
   "source": [
    "display(df.loc[1:3])\n",
    "display(df.iloc[0:1])"
   ]
  },
  {
   "cell_type": "code",
   "execution_count": null,
   "id": "54e192ef",
   "metadata": {},
   "outputs": [],
   "source": [
    "print(df.loc[1, \"A\"]) # 1행 A열 출력 (명시적 인덱스 참고)\n",
    "print(df.loc[3, \"B\"]) # 3행 B열 출력 (명시적 인덱스 참고)\n",
    "print(df.iloc[0, 1]) # 0행 1열 출력 (암묵적 인덱스 참고)\n",
    "print(df.iloc[1, 2]) # 1행 2열 출력 (암묵적 인덱스 참고)"
   ]
  },
  {
   "cell_type": "markdown",
   "id": "68ae1e3c",
   "metadata": {},
   "source": [
    "#### 요소 추가"
   ]
  },
  {
   "cell_type": "code",
   "execution_count": null,
   "id": "1f0d9e37",
   "metadata": {},
   "outputs": [],
   "source": [
    "S.loc[9] = \"E\"\n",
    "display(S)"
   ]
  },
  {
   "cell_type": "code",
   "execution_count": null,
   "id": "88cdb2d2",
   "metadata": {},
   "outputs": [],
   "source": [
    "df.loc[9] = [5, 50, 9]\n",
    "display(df)"
   ]
  },
  {
   "cell_type": "code",
   "execution_count": null,
   "id": "1be1c51f",
   "metadata": {},
   "outputs": [],
   "source": [
    "S.loc[1] = \"F\"\n",
    "display(S)"
   ]
  },
  {
   "cell_type": "markdown",
   "id": "d5cb21e9",
   "metadata": {},
   "source": [
    "### 컬럼 인덱싱과 생성"
   ]
  },
  {
   "cell_type": "code",
   "execution_count": null,
   "id": "823a45c8",
   "metadata": {},
   "outputs": [],
   "source": [
    "display(df[\"A\"]) # 딕셔너리처럼 접근\n",
    "display(df.A) # 속성처럼 접근"
   ]
  },
  {
   "cell_type": "code",
   "execution_count": null,
   "id": "83b3d64a",
   "metadata": {},
   "outputs": [],
   "source": [
    "display(df[[\"A\"]])\n",
    "display(df[[\"A\", \"B\"]])"
   ]
  },
  {
   "cell_type": "code",
   "execution_count": null,
   "id": "2f671af5",
   "metadata": {},
   "outputs": [],
   "source": [
    "df[\"D\"] = [-1, -2, -3, -4, -5]\n",
    "display(df)"
   ]
  },
  {
   "cell_type": "code",
   "execution_count": null,
   "id": "2f4b0dd0",
   "metadata": {
    "scrolled": false
   },
   "outputs": [],
   "source": [
    "df[\"E\"] = [-1, -2, -3, -4]"
   ]
  },
  {
   "cell_type": "code",
   "execution_count": null,
   "id": "2090ef68",
   "metadata": {},
   "outputs": [],
   "source": [
    "df[\"E\"] = 0\n",
    "display(df)"
   ]
  },
  {
   "cell_type": "code",
   "execution_count": null,
   "id": "00c41616",
   "metadata": {},
   "outputs": [],
   "source": [
    "import numpy as np\n",
    "df[[\"D\", \"E\"]] = np.arange(0, 10).reshape(5, 2)\n",
    "display(df)"
   ]
  },
  {
   "cell_type": "markdown",
   "id": "f53b3bf4",
   "metadata": {},
   "source": [
    "### 부울 배열을 이용한 인덱싱"
   ]
  },
  {
   "cell_type": "code",
   "execution_count": null,
   "id": "384df50e",
   "metadata": {},
   "outputs": [],
   "source": [
    "cond = df[\"C\"] % 2 == 0\n",
    "display(cond)\n",
    "display(df.loc[cond])"
   ]
  },
  {
   "cell_type": "code",
   "execution_count": null,
   "id": "373bdd1c",
   "metadata": {},
   "outputs": [],
   "source": [
    "cond = df[\"C\"] % 2 == 0\n",
    "display(cond)\n",
    "display(df.loc[cond])"
   ]
  },
  {
   "cell_type": "code",
   "execution_count": null,
   "id": "e55d3364",
   "metadata": {},
   "outputs": [],
   "source": [
    "idx1 = pd.Series([False, True, False, True, False], index = [1, 3, 5, 7, 9])\n",
    "idx2 = pd.Series([False, True, False, True, False], index = [0, 1, 2, 3, 4])\n",
    "idx3 = np.array([False, True, False, True, False])"
   ]
  },
  {
   "cell_type": "code",
   "execution_count": null,
   "id": "a75f58e1",
   "metadata": {},
   "outputs": [],
   "source": [
    "display(df.loc[idx1])"
   ]
  },
  {
   "cell_type": "code",
   "execution_count": null,
   "id": "a58d10d9",
   "metadata": {},
   "outputs": [],
   "source": [
    "display(df.loc[idx2])"
   ]
  },
  {
   "cell_type": "code",
   "execution_count": null,
   "id": "0ea92566",
   "metadata": {},
   "outputs": [],
   "source": [
    "display(df.loc[idx3])"
   ]
  },
  {
   "cell_type": "code",
   "execution_count": null,
   "id": "794fe19a",
   "metadata": {},
   "outputs": [],
   "source": [
    "display(df.loc[df[\"A\"] <= 3, [\"A\", \"C\"]])"
   ]
  },
  {
   "cell_type": "code",
   "execution_count": null,
   "id": "1379a738",
   "metadata": {},
   "outputs": [],
   "source": [
    "display(df[\"B\"].isin([30, 20]))"
   ]
  },
  {
   "cell_type": "code",
   "execution_count": null,
   "id": "6192e3cf",
   "metadata": {},
   "outputs": [],
   "source": [
    "display(df.loc[df[\"B\"].isin([30, 20])])"
   ]
  }
 ],
 "metadata": {
  "kernelspec": {
   "display_name": "Python 3",
   "language": "python",
   "name": "python3"
  },
  "language_info": {
   "codemirror_mode": {
    "name": "ipython",
    "version": 3
   },
   "file_extension": ".py",
   "mimetype": "text/x-python",
   "name": "python",
   "nbconvert_exporter": "python",
   "pygments_lexer": "ipython3",
   "version": "3.8.8"
  }
 },
 "nbformat": 4,
 "nbformat_minor": 5
}
