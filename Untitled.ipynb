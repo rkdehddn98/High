{
 "cells": [
  {
   "cell_type": "code",
   "execution_count": 2,
   "id": "86656db8",
   "metadata": {},
   "outputs": [
    {
     "name": "stdout",
     "output_type": "stream",
     "text": [
      "Hello world\n"
     ]
    }
   ],
   "source": [
    "print(\"Hello world\")"
   ]
  },
  {
   "cell_type": "code",
   "execution_count": 3,
   "id": "552bc3e2",
   "metadata": {},
   "outputs": [
    {
     "name": "stdout",
     "output_type": "stream",
     "text": [
      "Hello world\n"
     ]
    }
   ],
   "source": [
    "msg = \"Hello world\"\n",
    "print(msg)"
   ]
  },
  {
   "cell_type": "code",
   "execution_count": 6,
   "id": "0158b3ea",
   "metadata": {},
   "outputs": [
    {
     "name": "stdout",
     "output_type": "stream",
     "text": [
      "Dong Woo Kang\n"
     ]
    }
   ],
   "source": [
    "first_name = \"Dong Woo\"\n",
    "last_name = \"Kang\"\n",
    "full_name = f\"{first_name} {last_name}\"\n",
    "print(full_name)"
   ]
  },
  {
   "cell_type": "code",
   "execution_count": 7,
   "id": "2a61a0ff",
   "metadata": {},
   "outputs": [
    {
     "name": "stdout",
     "output_type": "stream",
     "text": [
      "trek\n",
      "redline\n",
      "giant\n"
     ]
    }
   ],
   "source": [
    "bikes = ['trek', 'redline', 'giant']\n",
    "first_bike = bikes[0]\n",
    "last_bike = bikes[-1]\n",
    "for bike in bikes:\n",
    "    print(bike)"
   ]
  },
  {
   "cell_type": "code",
   "execution_count": 8,
   "id": "87022150",
   "metadata": {},
   "outputs": [
    {
     "name": "stdout",
     "output_type": "stream",
     "text": [
      "['trek', 'redline', 'giant']\n"
     ]
    }
   ],
   "source": [
    "bikes = []\n",
    "bikes.append(\"trek\")\n",
    "bikes.append(\"redline\")\n",
    "bikes.append(\"giant\")\n",
    "print(bikes)"
   ]
  },
  {
   "cell_type": "code",
   "execution_count": 10,
   "id": "ab6a0136",
   "metadata": {},
   "outputs": [
    {
     "name": "stdout",
     "output_type": "stream",
     "text": [
      "[1, 4, 9, 16, 25, 36, 49, 64, 81, 100]\n"
     ]
    }
   ],
   "source": [
    "squares = []\n",
    "for x in range(1,11):\n",
    "    squares.append(x**2)\n",
    "print(squares)"
   ]
  },
  {
   "cell_type": "code",
   "execution_count": 11,
   "id": "a9e7ffc9",
   "metadata": {},
   "outputs": [
    {
     "name": "stdout",
     "output_type": "stream",
     "text": [
      "[1, 4, 9, 16, 25, 36, 49, 64, 81, 100]\n"
     ]
    }
   ],
   "source": [
    "squares = [x**2 for x in range(1,11)]\n",
    "print(squares)"
   ]
  },
  {
   "cell_type": "code",
   "execution_count": 13,
   "id": "9ef9f520",
   "metadata": {},
   "outputs": [
    {
     "name": "stdout",
     "output_type": "stream",
     "text": [
      "['sam', 'bob']\n"
     ]
    }
   ],
   "source": [
    "finishers = [\"sam\", \"bob\", \"ada\", \"bea\"]\n",
    "first_two = finishers[:2]\n",
    "print(first_two)"
   ]
  },
  {
   "cell_type": "code",
   "execution_count": 15,
   "id": "40f88531",
   "metadata": {},
   "outputs": [
    {
     "name": "stdout",
     "output_type": "stream",
     "text": [
      "['trek', 'redline', 'giant']\n"
     ]
    }
   ],
   "source": [
    "copy_of_bikes = bikes[:]\n",
    "print(copy_of_bikes)"
   ]
  },
  {
   "cell_type": "code",
   "execution_count": 17,
   "id": "54c4749f",
   "metadata": {},
   "outputs": [
    {
     "name": "stdout",
     "output_type": "stream",
     "text": [
      "(1920, 1080)\n"
     ]
    }
   ],
   "source": [
    "dimensions = (1920,1080) \n",
    "print(dimensions)"
   ]
  },
  {
   "cell_type": "code",
   "execution_count": 19,
   "id": "1e6c4ff5",
   "metadata": {},
   "outputs": [
    {
     "data": {
      "text/plain": [
       "True"
      ]
     },
     "execution_count": 19,
     "metadata": {},
     "output_type": "execute_result"
    }
   ],
   "source": [
    "\"trek\" in bikes"
   ]
  },
  {
   "cell_type": "code",
   "execution_count": 20,
   "id": "40ec5f3b",
   "metadata": {},
   "outputs": [
    {
     "data": {
      "text/plain": [
       "True"
      ]
     },
     "execution_count": 20,
     "metadata": {},
     "output_type": "execute_result"
    }
   ],
   "source": [
    "\"surly\" not in bikes"
   ]
  },
  {
   "cell_type": "code",
   "execution_count": null,
   "id": "3026edb5",
   "metadata": {},
   "outputs": [],
   "source": [
    "game_active = True\n",
    "can_ed"
   ]
  }
 ],
 "metadata": {
  "kernelspec": {
   "display_name": "Python 3 (ipykernel)",
   "language": "python",
   "name": "python3"
  },
  "language_info": {
   "codemirror_mode": {
    "name": "ipython",
    "version": 3
   },
   "file_extension": ".py",
   "mimetype": "text/x-python",
   "name": "python",
   "nbconvert_exporter": "python",
   "pygments_lexer": "ipython3",
   "version": "3.9.12"
  }
 },
 "nbformat": 4,
 "nbformat_minor": 5
}
